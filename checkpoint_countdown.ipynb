{
  "nbformat": 4,
  "nbformat_minor": 0,
  "metadata": {
    "colab": {
      "name": "checkpoint countdown",
      "provenance": []
    },
    "kernelspec": {
      "display_name": "Python 3",
      "name": "python3"
    },
    "language_info": {
      "name": "python"
    }
  },
  "cells": [
    {
      "cell_type": "code",
      "metadata": {
        "colab": {
          "base_uri": "https://localhost:8080/"
        },
        "id": "XvUaLcOWRE7g",
        "outputId": "4d842aa7-abb9-4c59-cf35-0ea308f9e857"
      },
      "source": [
        "import time\n",
        "t = int(input(\"Please put the duration in seconds \"))\n",
        "\n",
        "def countdown(t):\n",
        "    while t > 0:\n",
        "        minutes, seconds = divmod(t, 60)\n",
        "        timeformat = '{:02d}:{:02d}'.format(minutes, seconds)\n",
        "        print(timeformat, end='\\r')\n",
        "        time.sleep(1)\n",
        "        t -= 1\n",
        "    print(\"Fire in the hole\")\n",
        "\n",
        "countdown(t)"
      ],
      "execution_count": 55,
      "outputs": [
        {
          "output_type": "stream",
          "text": [
            "Please put the duration in seconds 5\n",
            "Fire in the hole\n"
          ],
          "name": "stdout"
        }
      ]
    }
  ]
}